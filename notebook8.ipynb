{
 "cells": [
  {
   "cell_type": "markdown",
   "id": "d8bba665",
   "metadata": {},
   "source": [
    "<img src=\"https://www.sturgischarterschool.com/wp-content/uploads/2019/06/sturgisheader_logo.png\" alt=\"sturgis\" width=\"250\" align=\"right\"/>\n",
    "\n",
    "## Computer Science 'mad scrabble' notebook 8\n",
    "### Sturgis Charter Public School \n",
    "\n"
   ]
  },
  {
   "cell_type": "markdown",
   "id": "681696fb",
   "metadata": {},
   "source": [
    "Student: [your name here]\n",
    "\n",
    "Collaborators: [N/A]\n",
    "\n",
    "How long you worked on it: [N/A]"
   ]
  },
  {
   "cell_type": "markdown",
   "id": "16bf0839",
   "metadata": {},
   "source": [
    "### Choices\n",
    "This time you have choices. Last time we built a calculator, encoder, or tic-tac-toe. This time we have some new options. \n",
    "\n",
    "* What character are you interactive quiz. (e.g. what star wars character are you?)\n",
    "* Make a madlibs.\n",
    "* Create an app which generates the highest scoring scrabble word given a set of seven letters.\n",
    "* Create an app that takes sports stats and predicts the best fantasy football (or other sport) team.\n",
    "* [Suggest something else](https://www.dataquest.io/blog/python-projects-for-beginners/)\n",
    "\n",
    "This assignment is open ended, so what you need to keep in mind is outlines below. \n",
    "\n",
    "* You may use any code we've looked at before.\n",
    "* You may import any package, but ideally it's a package that I have as well. \n",
    "* You may work in pairs\n",
    "* You must create a flowchart. (Refer to notebook5)\n",
    "* You must evalaute your work with the reflective questions shown below. "
   ]
  },
  {
   "cell_type": "code",
   "execution_count": null,
   "id": "fb3eb272",
   "metadata": {},
   "outputs": [],
   "source": [
    "#Your code, feel free to use as many cells as necessary. "
   ]
  },
  {
   "cell_type": "markdown",
   "id": "73fcfc96",
   "metadata": {},
   "source": [
    "After you create your solution, you need to document your solution. Write roughly 1 paragraph or 4 bullet points per documentation component. \n",
    "* A record of the steps you took and/or the techniques you used to complete your program\n",
    "* An evaluation of the success of your product\n",
    "* A description of what you would do to improve your product and/or next steps\n"
   ]
  },
  {
   "cell_type": "code",
   "execution_count": null,
   "id": "4cab130c",
   "metadata": {},
   "outputs": [],
   "source": []
  }
 ],
 "metadata": {
  "kernelspec": {
   "display_name": "Python 3 (ipykernel)",
   "language": "python",
   "name": "python3"
  },
  "language_info": {
   "codemirror_mode": {
    "name": "ipython",
    "version": 3
   },
   "file_extension": ".py",
   "mimetype": "text/x-python",
   "name": "python",
   "nbconvert_exporter": "python",
   "pygments_lexer": "ipython3",
   "version": "3.9.7"
  }
 },
 "nbformat": 4,
 "nbformat_minor": 5
}
